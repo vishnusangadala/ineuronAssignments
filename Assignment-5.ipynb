{
 "cells": [
  {
   "cell_type": "raw",
   "id": "ca526f8a",
   "metadata": {},
   "source": [
    "1. What does an empty dictionary's code look like?\n",
    "  \n",
    "  A. To create an empty dictionary we have 2 options : \n",
    "     i. my_dict = {}\n",
    "    ii. my_dic = dict()\n",
    "    \n",
    "    This creates dictionary with no key value pairs."
   ]
  },
  {
   "cell_type": "code",
   "execution_count": 5,
   "id": "0d5f5792",
   "metadata": {},
   "outputs": [
    {
     "name": "stdout",
     "output_type": "stream",
     "text": [
      "{}\n",
      "{}\n"
     ]
    }
   ],
   "source": [
    "my_dict = {}\n",
    "print(my_dict)\n",
    "my_dic = dict()\n",
    "print(my_dic)"
   ]
  },
  {
   "cell_type": "markdown",
   "id": "883c4267",
   "metadata": {},
   "source": [
    "2. What is the value of a dictionary value with the key 'foo' and the value 42?\n",
    "\n",
    "A. dict1 = {'foo' : 42 }"
   ]
  },
  {
   "cell_type": "code",
   "execution_count": 7,
   "id": "c1b6cc89",
   "metadata": {},
   "outputs": [
    {
     "data": {
      "text/plain": [
       "{'foo': 42}"
      ]
     },
     "execution_count": 7,
     "metadata": {},
     "output_type": "execute_result"
    }
   ],
   "source": [
    "dict1 = {'foo' : 42 }\n",
    "dict1"
   ]
  },
  {
   "cell_type": "markdown",
   "id": "7a800779",
   "metadata": {},
   "source": [
    "3. What is the most significant distinction between a dictionary and a list?\n",
    "\n",
    "A. Lists are ordered collection of elements which can be accessed by index, whereas a          dictionary is unordered collection of elements which can be accessed by key values."
   ]
  },
  {
   "cell_type": "markdown",
   "id": "ae89a919",
   "metadata": {},
   "source": [
    "4. What happens if you try to access spam['foo'] if spam is {'bar': 100}?\n",
    "\n",
    "A. We will get a keyError as we don't have the key 'foo'."
   ]
  },
  {
   "cell_type": "code",
   "execution_count": 8,
   "id": "762fcecf",
   "metadata": {},
   "outputs": [
    {
     "ename": "KeyError",
     "evalue": "'foo'",
     "output_type": "error",
     "traceback": [
      "\u001b[0;31m---------------------------------------------------------------------------\u001b[0m",
      "\u001b[0;31mKeyError\u001b[0m                                  Traceback (most recent call last)",
      "Input \u001b[0;32mIn [8]\u001b[0m, in \u001b[0;36m<cell line: 2>\u001b[0;34m()\u001b[0m\n\u001b[1;32m      1\u001b[0m spam \u001b[38;5;241m=\u001b[39m  {\u001b[38;5;124m'\u001b[39m\u001b[38;5;124mbar\u001b[39m\u001b[38;5;124m'\u001b[39m: \u001b[38;5;241m100\u001b[39m}\n\u001b[0;32m----> 2\u001b[0m \u001b[43mspam\u001b[49m\u001b[43m[\u001b[49m\u001b[38;5;124;43m'\u001b[39;49m\u001b[38;5;124;43mfoo\u001b[39;49m\u001b[38;5;124;43m'\u001b[39;49m\u001b[43m]\u001b[49m\n",
      "\u001b[0;31mKeyError\u001b[0m: 'foo'"
     ]
    }
   ],
   "source": [
    "spam =  {'bar': 100}\n",
    "spam['foo']"
   ]
  },
  {
   "cell_type": "markdown",
   "id": "75a78387",
   "metadata": {},
   "source": [
    "5. If a dictionary is stored in spam, what is the difference between the expressions \n",
    "  'cat' in spam and\n",
    "  'cat'in spam.keys()?\n",
    "  \n",
    " A. They both are used to find whether 'cat' key is present in spam or not. If the key is      present it return true else false.\n",
    "   But 'cat'in spam.keys() additionally get all the keys as a list and checks for the key.\n",
    "   \n",
    "   They both do the same.\n",
    "   "
   ]
  },
  {
   "cell_type": "markdown",
   "id": "b833e9bf",
   "metadata": {},
   "source": [
    "6. If a dictionary is stored in spam, what is the difference between the expressions \n",
    "  'cat' in spam and\n",
    "  'cat'in spam.values()?\n",
    "  \n",
    "A. 'cat' in spam -> checks if 'cat' key is present or not in spam and returns either true       or false, but \n",
    "    'cat'in spam.values() -> checks if the values in the spam has the value 'cat' and           returns either true or flase."
   ]
  },
  {
   "cell_type": "markdown",
   "id": "6b50ad5c",
   "metadata": {},
   "source": [
    "7. What is a shortcut for the following code?\n",
    "    if'color' not in spam:\n",
    "        spam['color'] = 'black'\n",
    "        \n",
    "A. We have a method setdefault() where we can achieve the same functionality.\n",
    "\n",
    "   spam.setdefault('color', 'black')\n",
    "   \n",
    "   If we don't have color key value pair, it will add it to spam.\n",
    "   If there already exists a color key with some values, it won't modify the current value."
   ]
  },
  {
   "cell_type": "markdown",
   "id": "d6f90ef0",
   "metadata": {},
   "source": [
    "8. How do you \"pretty print\" dictionary values using which module and function?\n",
    "\n",
    "A. Pretty printing is like fomatting(alphabetical or ascending order) and aligning the        dictionary elements in a uniform structure.\n",
    "\n",
    "    To pretty print we have to use pprint module and pprint() funtion"
   ]
  },
  {
   "cell_type": "code",
   "execution_count": 12,
   "id": "7628728f",
   "metadata": {},
   "outputs": [
    {
     "data": {
      "text/plain": [
       "{'z': 22, 'x': 32, 'y': 3111}"
      ]
     },
     "execution_count": 12,
     "metadata": {},
     "output_type": "execute_result"
    }
   ],
   "source": [
    "dict_new = {'z':22,'x' : 32, 'y' :3111}\n",
    "dict_new"
   ]
  },
  {
   "cell_type": "code",
   "execution_count": 14,
   "id": "9a69898c",
   "metadata": {},
   "outputs": [
    {
     "name": "stdout",
     "output_type": "stream",
     "text": [
      "{'x': 32, 'y': 3111, 'z': 22}\n"
     ]
    }
   ],
   "source": [
    "from pprint import pprint\n",
    "pprint(dict_new)"
   ]
  }
 ],
 "metadata": {
  "kernelspec": {
   "display_name": "Python 3 (ipykernel)",
   "language": "python",
   "name": "python3"
  },
  "language_info": {
   "codemirror_mode": {
    "name": "ipython",
    "version": 3
   },
   "file_extension": ".py",
   "mimetype": "text/x-python",
   "name": "python",
   "nbconvert_exporter": "python",
   "pygments_lexer": "ipython3",
   "version": "3.9.12"
  }
 },
 "nbformat": 4,
 "nbformat_minor": 5
}
